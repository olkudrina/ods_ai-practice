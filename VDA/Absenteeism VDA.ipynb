{
 "cells": [
  {
   "cell_type": "markdown",
   "metadata": {},
   "source": [
    "**The dataset was provided by the UCI Machine Learning Repository.** \n",
    "\n",
    "1. Individual identification (ID)\n",
    "2. Reason for absence (ICD).\n",
    "Absences attested by the International Code of Diseases (ICD) stratified into 21 categories (I to XXI) as follows:\n",
    "\n",
    "I Certain infectious and parasitic diseases  \n",
    "II Neoplasms  \n",
    "III Diseases of the blood and blood-forming organs and certain disorders involving the immune mechanism  \n",
    "IV Endocrine, nutritional and metabolic diseases  \n",
    "V Mental and behavioural disorders  \n",
    "VI Diseases of the nervous system  \n",
    "VII Diseases of the eye and adnexa  \n",
    "VIII Diseases of the ear and mastoid process  \n",
    "IX Diseases of the circulatory system  \n",
    "X Diseases of the respiratory system  \n",
    "XI Diseases of the digestive system  \n",
    "XII Diseases of the skin and subcutaneous tissue  \n",
    "XIII Diseases of the musculoskeletal system and connective tissue  \n",
    "XIV Diseases of the genitourinary system  \n",
    "XV Pregnancy, childbirth and the puerperium  \n",
    "XVI Certain conditions originating in the perinatal period  \n",
    "XVII Congenital malformations, deformations and chromosomal abnormalities  \n",
    "XVIII Symptoms, signs and abnormal clinical and laboratory findings, not elsewhere classified  \n",
    "XIX Injury, poisoning and certain other consequences of external causes  \n",
    "XX External causes of morbidity and mortality  \n",
    "XXI Factors influencing health status and contact with health services.\n",
    "\n",
    "And 7 categories without (CID) patient follow-up (22), medical consultation (23), blood donation (24), laboratory examination (25), unjustified absence (26), physiotherapy (27), dental consultation (28).\n",
    "3. Month of absence\n",
    "4. Day of the week (Monday (2), Tuesday (3), Wednesday (4), Thursday (5), Friday (6))\n",
    "5. Seasons\n",
    "6. Transportation expense\n",
    "7. Distance from Residence to Work (kilometers)\n",
    "8. Service time\n",
    "9. Age\n",
    "10. Work load Average/day \n",
    "11. Hit target\n",
    "12. Disciplinary failure (yes=1; no=0)\n",
    "13. Education (high school (1), graduate (2), postgraduate (3), master and doctor (4))\n",
    "14. Son (number of children)\n",
    "15. Social drinker (yes=1; no=0)\n",
    "16. Social smoker (yes=1; no=0)\n",
    "17. Pet (number of pet)\n",
    "18. Weight\n",
    "19. Height\n",
    "20. Body mass index\n",
    "21. Absenteeism time in hours (target)"
   ]
  },
  {
   "cell_type": "code",
   "execution_count": 1,
   "metadata": {},
   "outputs": [],
   "source": [
    "import pandas as pd\n",
    "import numpy as np\n",
    "import matplotlib.pyplot as plt\n",
    "import seaborn as sns\n",
    "\n",
    "sns.set()"
   ]
  },
  {
   "cell_type": "code",
   "execution_count": 2,
   "metadata": {},
   "outputs": [],
   "source": [
    "df = pd.read_csv(r'Absenteeism_at_work.csv', sep = '\\;', engine='python')"
   ]
  },
  {
   "cell_type": "code",
   "execution_count": 3,
   "metadata": {},
   "outputs": [
    {
     "data": {
      "text/html": [
       "<div>\n",
       "<style scoped>\n",
       "    .dataframe tbody tr th:only-of-type {\n",
       "        vertical-align: middle;\n",
       "    }\n",
       "\n",
       "    .dataframe tbody tr th {\n",
       "        vertical-align: top;\n",
       "    }\n",
       "\n",
       "    .dataframe thead th {\n",
       "        text-align: right;\n",
       "    }\n",
       "</style>\n",
       "<table border=\"1\" class=\"dataframe\">\n",
       "  <thead>\n",
       "    <tr style=\"text-align: right;\">\n",
       "      <th></th>\n",
       "      <th>ID</th>\n",
       "      <th>Reason for absence</th>\n",
       "      <th>Month of absence</th>\n",
       "      <th>Day of the week</th>\n",
       "      <th>Seasons</th>\n",
       "      <th>Transportation expense</th>\n",
       "      <th>Distance from Residence to Work</th>\n",
       "      <th>Service time</th>\n",
       "      <th>Age</th>\n",
       "      <th>Work load Average/day</th>\n",
       "      <th>...</th>\n",
       "      <th>Disciplinary failure</th>\n",
       "      <th>Education</th>\n",
       "      <th>Son</th>\n",
       "      <th>Social drinker</th>\n",
       "      <th>Social smoker</th>\n",
       "      <th>Pet</th>\n",
       "      <th>Weight</th>\n",
       "      <th>Height</th>\n",
       "      <th>Body mass index</th>\n",
       "      <th>Absenteeism time in hours</th>\n",
       "    </tr>\n",
       "  </thead>\n",
       "  <tbody>\n",
       "    <tr>\n",
       "      <th>0</th>\n",
       "      <td>11</td>\n",
       "      <td>26</td>\n",
       "      <td>7</td>\n",
       "      <td>3</td>\n",
       "      <td>1</td>\n",
       "      <td>289</td>\n",
       "      <td>36</td>\n",
       "      <td>13</td>\n",
       "      <td>33</td>\n",
       "      <td>239.554</td>\n",
       "      <td>...</td>\n",
       "      <td>0</td>\n",
       "      <td>1</td>\n",
       "      <td>2</td>\n",
       "      <td>1</td>\n",
       "      <td>0</td>\n",
       "      <td>1</td>\n",
       "      <td>90</td>\n",
       "      <td>172</td>\n",
       "      <td>30</td>\n",
       "      <td>4</td>\n",
       "    </tr>\n",
       "    <tr>\n",
       "      <th>1</th>\n",
       "      <td>36</td>\n",
       "      <td>0</td>\n",
       "      <td>7</td>\n",
       "      <td>3</td>\n",
       "      <td>1</td>\n",
       "      <td>118</td>\n",
       "      <td>13</td>\n",
       "      <td>18</td>\n",
       "      <td>50</td>\n",
       "      <td>239.554</td>\n",
       "      <td>...</td>\n",
       "      <td>1</td>\n",
       "      <td>1</td>\n",
       "      <td>1</td>\n",
       "      <td>1</td>\n",
       "      <td>0</td>\n",
       "      <td>0</td>\n",
       "      <td>98</td>\n",
       "      <td>178</td>\n",
       "      <td>31</td>\n",
       "      <td>0</td>\n",
       "    </tr>\n",
       "    <tr>\n",
       "      <th>2</th>\n",
       "      <td>3</td>\n",
       "      <td>23</td>\n",
       "      <td>7</td>\n",
       "      <td>4</td>\n",
       "      <td>1</td>\n",
       "      <td>179</td>\n",
       "      <td>51</td>\n",
       "      <td>18</td>\n",
       "      <td>38</td>\n",
       "      <td>239.554</td>\n",
       "      <td>...</td>\n",
       "      <td>0</td>\n",
       "      <td>1</td>\n",
       "      <td>0</td>\n",
       "      <td>1</td>\n",
       "      <td>0</td>\n",
       "      <td>0</td>\n",
       "      <td>89</td>\n",
       "      <td>170</td>\n",
       "      <td>31</td>\n",
       "      <td>2</td>\n",
       "    </tr>\n",
       "    <tr>\n",
       "      <th>3</th>\n",
       "      <td>7</td>\n",
       "      <td>7</td>\n",
       "      <td>7</td>\n",
       "      <td>5</td>\n",
       "      <td>1</td>\n",
       "      <td>279</td>\n",
       "      <td>5</td>\n",
       "      <td>14</td>\n",
       "      <td>39</td>\n",
       "      <td>239.554</td>\n",
       "      <td>...</td>\n",
       "      <td>0</td>\n",
       "      <td>1</td>\n",
       "      <td>2</td>\n",
       "      <td>1</td>\n",
       "      <td>1</td>\n",
       "      <td>0</td>\n",
       "      <td>68</td>\n",
       "      <td>168</td>\n",
       "      <td>24</td>\n",
       "      <td>4</td>\n",
       "    </tr>\n",
       "    <tr>\n",
       "      <th>4</th>\n",
       "      <td>11</td>\n",
       "      <td>23</td>\n",
       "      <td>7</td>\n",
       "      <td>5</td>\n",
       "      <td>1</td>\n",
       "      <td>289</td>\n",
       "      <td>36</td>\n",
       "      <td>13</td>\n",
       "      <td>33</td>\n",
       "      <td>239.554</td>\n",
       "      <td>...</td>\n",
       "      <td>0</td>\n",
       "      <td>1</td>\n",
       "      <td>2</td>\n",
       "      <td>1</td>\n",
       "      <td>0</td>\n",
       "      <td>1</td>\n",
       "      <td>90</td>\n",
       "      <td>172</td>\n",
       "      <td>30</td>\n",
       "      <td>2</td>\n",
       "    </tr>\n",
       "  </tbody>\n",
       "</table>\n",
       "<p>5 rows × 21 columns</p>\n",
       "</div>"
      ],
      "text/plain": [
       "   ID  Reason for absence  Month of absence  Day of the week  Seasons  \\\n",
       "0  11                  26                 7                3        1   \n",
       "1  36                   0                 7                3        1   \n",
       "2   3                  23                 7                4        1   \n",
       "3   7                   7                 7                5        1   \n",
       "4  11                  23                 7                5        1   \n",
       "\n",
       "   Transportation expense  Distance from Residence to Work  Service time  Age  \\\n",
       "0                     289                               36            13   33   \n",
       "1                     118                               13            18   50   \n",
       "2                     179                               51            18   38   \n",
       "3                     279                                5            14   39   \n",
       "4                     289                               36            13   33   \n",
       "\n",
       "   Work load Average/day   ...  Disciplinary failure  Education  Son  \\\n",
       "0                 239.554  ...                     0          1    2   \n",
       "1                 239.554  ...                     1          1    1   \n",
       "2                 239.554  ...                     0          1    0   \n",
       "3                 239.554  ...                     0          1    2   \n",
       "4                 239.554  ...                     0          1    2   \n",
       "\n",
       "   Social drinker  Social smoker  Pet  Weight  Height  Body mass index  \\\n",
       "0               1              0    1      90     172               30   \n",
       "1               1              0    0      98     178               31   \n",
       "2               1              0    0      89     170               31   \n",
       "3               1              1    0      68     168               24   \n",
       "4               1              0    1      90     172               30   \n",
       "\n",
       "   Absenteeism time in hours  \n",
       "0                          4  \n",
       "1                          0  \n",
       "2                          2  \n",
       "3                          4  \n",
       "4                          2  \n",
       "\n",
       "[5 rows x 21 columns]"
      ]
     },
     "execution_count": 3,
     "metadata": {},
     "output_type": "execute_result"
    }
   ],
   "source": [
    "df.head()"
   ]
  },
  {
   "cell_type": "code",
   "execution_count": 4,
   "metadata": {},
   "outputs": [
    {
     "data": {
      "text/plain": [
       "(740, 21)"
      ]
     },
     "execution_count": 4,
     "metadata": {},
     "output_type": "execute_result"
    }
   ],
   "source": [
    "df.shape"
   ]
  },
  {
   "cell_type": "code",
   "execution_count": 5,
   "metadata": {},
   "outputs": [
    {
     "data": {
      "text/html": [
       "<div>\n",
       "<style scoped>\n",
       "    .dataframe tbody tr th:only-of-type {\n",
       "        vertical-align: middle;\n",
       "    }\n",
       "\n",
       "    .dataframe tbody tr th {\n",
       "        vertical-align: top;\n",
       "    }\n",
       "\n",
       "    .dataframe thead th {\n",
       "        text-align: right;\n",
       "    }\n",
       "</style>\n",
       "<table border=\"1\" class=\"dataframe\">\n",
       "  <thead>\n",
       "    <tr style=\"text-align: right;\">\n",
       "      <th></th>\n",
       "      <th>count</th>\n",
       "      <th>mean</th>\n",
       "      <th>std</th>\n",
       "      <th>min</th>\n",
       "      <th>25%</th>\n",
       "      <th>50%</th>\n",
       "      <th>75%</th>\n",
       "      <th>max</th>\n",
       "    </tr>\n",
       "  </thead>\n",
       "  <tbody>\n",
       "    <tr>\n",
       "      <th>ID</th>\n",
       "      <td>740.0</td>\n",
       "      <td>18.017568</td>\n",
       "      <td>11.021247</td>\n",
       "      <td>1.000</td>\n",
       "      <td>9.000</td>\n",
       "      <td>18.000</td>\n",
       "      <td>28.000</td>\n",
       "      <td>36.000</td>\n",
       "    </tr>\n",
       "    <tr>\n",
       "      <th>Reason for absence</th>\n",
       "      <td>740.0</td>\n",
       "      <td>19.216216</td>\n",
       "      <td>8.433406</td>\n",
       "      <td>0.000</td>\n",
       "      <td>13.000</td>\n",
       "      <td>23.000</td>\n",
       "      <td>26.000</td>\n",
       "      <td>28.000</td>\n",
       "    </tr>\n",
       "    <tr>\n",
       "      <th>Month of absence</th>\n",
       "      <td>740.0</td>\n",
       "      <td>6.324324</td>\n",
       "      <td>3.436287</td>\n",
       "      <td>0.000</td>\n",
       "      <td>3.000</td>\n",
       "      <td>6.000</td>\n",
       "      <td>9.000</td>\n",
       "      <td>12.000</td>\n",
       "    </tr>\n",
       "    <tr>\n",
       "      <th>Day of the week</th>\n",
       "      <td>740.0</td>\n",
       "      <td>3.914865</td>\n",
       "      <td>1.421675</td>\n",
       "      <td>2.000</td>\n",
       "      <td>3.000</td>\n",
       "      <td>4.000</td>\n",
       "      <td>5.000</td>\n",
       "      <td>6.000</td>\n",
       "    </tr>\n",
       "    <tr>\n",
       "      <th>Seasons</th>\n",
       "      <td>740.0</td>\n",
       "      <td>2.544595</td>\n",
       "      <td>1.111831</td>\n",
       "      <td>1.000</td>\n",
       "      <td>2.000</td>\n",
       "      <td>3.000</td>\n",
       "      <td>4.000</td>\n",
       "      <td>4.000</td>\n",
       "    </tr>\n",
       "    <tr>\n",
       "      <th>Transportation expense</th>\n",
       "      <td>740.0</td>\n",
       "      <td>221.329730</td>\n",
       "      <td>66.952223</td>\n",
       "      <td>118.000</td>\n",
       "      <td>179.000</td>\n",
       "      <td>225.000</td>\n",
       "      <td>260.000</td>\n",
       "      <td>388.000</td>\n",
       "    </tr>\n",
       "    <tr>\n",
       "      <th>Distance from Residence to Work</th>\n",
       "      <td>740.0</td>\n",
       "      <td>29.631081</td>\n",
       "      <td>14.836788</td>\n",
       "      <td>5.000</td>\n",
       "      <td>16.000</td>\n",
       "      <td>26.000</td>\n",
       "      <td>50.000</td>\n",
       "      <td>52.000</td>\n",
       "    </tr>\n",
       "    <tr>\n",
       "      <th>Service time</th>\n",
       "      <td>740.0</td>\n",
       "      <td>12.554054</td>\n",
       "      <td>4.384873</td>\n",
       "      <td>1.000</td>\n",
       "      <td>9.000</td>\n",
       "      <td>13.000</td>\n",
       "      <td>16.000</td>\n",
       "      <td>29.000</td>\n",
       "    </tr>\n",
       "    <tr>\n",
       "      <th>Age</th>\n",
       "      <td>740.0</td>\n",
       "      <td>36.450000</td>\n",
       "      <td>6.478772</td>\n",
       "      <td>27.000</td>\n",
       "      <td>31.000</td>\n",
       "      <td>37.000</td>\n",
       "      <td>40.000</td>\n",
       "      <td>58.000</td>\n",
       "    </tr>\n",
       "    <tr>\n",
       "      <th>Work load Average/day</th>\n",
       "      <td>740.0</td>\n",
       "      <td>271.490235</td>\n",
       "      <td>39.058116</td>\n",
       "      <td>205.917</td>\n",
       "      <td>244.387</td>\n",
       "      <td>264.249</td>\n",
       "      <td>294.217</td>\n",
       "      <td>378.884</td>\n",
       "    </tr>\n",
       "    <tr>\n",
       "      <th>Hit target</th>\n",
       "      <td>740.0</td>\n",
       "      <td>94.587838</td>\n",
       "      <td>3.779313</td>\n",
       "      <td>81.000</td>\n",
       "      <td>93.000</td>\n",
       "      <td>95.000</td>\n",
       "      <td>97.000</td>\n",
       "      <td>100.000</td>\n",
       "    </tr>\n",
       "    <tr>\n",
       "      <th>Disciplinary failure</th>\n",
       "      <td>740.0</td>\n",
       "      <td>0.054054</td>\n",
       "      <td>0.226277</td>\n",
       "      <td>0.000</td>\n",
       "      <td>0.000</td>\n",
       "      <td>0.000</td>\n",
       "      <td>0.000</td>\n",
       "      <td>1.000</td>\n",
       "    </tr>\n",
       "    <tr>\n",
       "      <th>Education</th>\n",
       "      <td>740.0</td>\n",
       "      <td>1.291892</td>\n",
       "      <td>0.673238</td>\n",
       "      <td>1.000</td>\n",
       "      <td>1.000</td>\n",
       "      <td>1.000</td>\n",
       "      <td>1.000</td>\n",
       "      <td>4.000</td>\n",
       "    </tr>\n",
       "    <tr>\n",
       "      <th>Son</th>\n",
       "      <td>740.0</td>\n",
       "      <td>1.018919</td>\n",
       "      <td>1.098489</td>\n",
       "      <td>0.000</td>\n",
       "      <td>0.000</td>\n",
       "      <td>1.000</td>\n",
       "      <td>2.000</td>\n",
       "      <td>4.000</td>\n",
       "    </tr>\n",
       "    <tr>\n",
       "      <th>Social drinker</th>\n",
       "      <td>740.0</td>\n",
       "      <td>0.567568</td>\n",
       "      <td>0.495749</td>\n",
       "      <td>0.000</td>\n",
       "      <td>0.000</td>\n",
       "      <td>1.000</td>\n",
       "      <td>1.000</td>\n",
       "      <td>1.000</td>\n",
       "    </tr>\n",
       "    <tr>\n",
       "      <th>Social smoker</th>\n",
       "      <td>740.0</td>\n",
       "      <td>0.072973</td>\n",
       "      <td>0.260268</td>\n",
       "      <td>0.000</td>\n",
       "      <td>0.000</td>\n",
       "      <td>0.000</td>\n",
       "      <td>0.000</td>\n",
       "      <td>1.000</td>\n",
       "    </tr>\n",
       "    <tr>\n",
       "      <th>Pet</th>\n",
       "      <td>740.0</td>\n",
       "      <td>0.745946</td>\n",
       "      <td>1.318258</td>\n",
       "      <td>0.000</td>\n",
       "      <td>0.000</td>\n",
       "      <td>0.000</td>\n",
       "      <td>1.000</td>\n",
       "      <td>8.000</td>\n",
       "    </tr>\n",
       "    <tr>\n",
       "      <th>Weight</th>\n",
       "      <td>740.0</td>\n",
       "      <td>79.035135</td>\n",
       "      <td>12.883211</td>\n",
       "      <td>56.000</td>\n",
       "      <td>69.000</td>\n",
       "      <td>83.000</td>\n",
       "      <td>89.000</td>\n",
       "      <td>108.000</td>\n",
       "    </tr>\n",
       "    <tr>\n",
       "      <th>Height</th>\n",
       "      <td>740.0</td>\n",
       "      <td>172.114865</td>\n",
       "      <td>6.034995</td>\n",
       "      <td>163.000</td>\n",
       "      <td>169.000</td>\n",
       "      <td>170.000</td>\n",
       "      <td>172.000</td>\n",
       "      <td>196.000</td>\n",
       "    </tr>\n",
       "    <tr>\n",
       "      <th>Body mass index</th>\n",
       "      <td>740.0</td>\n",
       "      <td>26.677027</td>\n",
       "      <td>4.285452</td>\n",
       "      <td>19.000</td>\n",
       "      <td>24.000</td>\n",
       "      <td>25.000</td>\n",
       "      <td>31.000</td>\n",
       "      <td>38.000</td>\n",
       "    </tr>\n",
       "    <tr>\n",
       "      <th>Absenteeism time in hours</th>\n",
       "      <td>740.0</td>\n",
       "      <td>6.924324</td>\n",
       "      <td>13.330998</td>\n",
       "      <td>0.000</td>\n",
       "      <td>2.000</td>\n",
       "      <td>3.000</td>\n",
       "      <td>8.000</td>\n",
       "      <td>120.000</td>\n",
       "    </tr>\n",
       "  </tbody>\n",
       "</table>\n",
       "</div>"
      ],
      "text/plain": [
       "                                 count        mean        std      min  \\\n",
       "ID                               740.0   18.017568  11.021247    1.000   \n",
       "Reason for absence               740.0   19.216216   8.433406    0.000   \n",
       "Month of absence                 740.0    6.324324   3.436287    0.000   \n",
       "Day of the week                  740.0    3.914865   1.421675    2.000   \n",
       "Seasons                          740.0    2.544595   1.111831    1.000   \n",
       "Transportation expense           740.0  221.329730  66.952223  118.000   \n",
       "Distance from Residence to Work  740.0   29.631081  14.836788    5.000   \n",
       "Service time                     740.0   12.554054   4.384873    1.000   \n",
       "Age                              740.0   36.450000   6.478772   27.000   \n",
       "Work load Average/day            740.0  271.490235  39.058116  205.917   \n",
       "Hit target                       740.0   94.587838   3.779313   81.000   \n",
       "Disciplinary failure             740.0    0.054054   0.226277    0.000   \n",
       "Education                        740.0    1.291892   0.673238    1.000   \n",
       "Son                              740.0    1.018919   1.098489    0.000   \n",
       "Social drinker                   740.0    0.567568   0.495749    0.000   \n",
       "Social smoker                    740.0    0.072973   0.260268    0.000   \n",
       "Pet                              740.0    0.745946   1.318258    0.000   \n",
       "Weight                           740.0   79.035135  12.883211   56.000   \n",
       "Height                           740.0  172.114865   6.034995  163.000   \n",
       "Body mass index                  740.0   26.677027   4.285452   19.000   \n",
       "Absenteeism time in hours        740.0    6.924324  13.330998    0.000   \n",
       "\n",
       "                                     25%      50%      75%      max  \n",
       "ID                                 9.000   18.000   28.000   36.000  \n",
       "Reason for absence                13.000   23.000   26.000   28.000  \n",
       "Month of absence                   3.000    6.000    9.000   12.000  \n",
       "Day of the week                    3.000    4.000    5.000    6.000  \n",
       "Seasons                            2.000    3.000    4.000    4.000  \n",
       "Transportation expense           179.000  225.000  260.000  388.000  \n",
       "Distance from Residence to Work   16.000   26.000   50.000   52.000  \n",
       "Service time                       9.000   13.000   16.000   29.000  \n",
       "Age                               31.000   37.000   40.000   58.000  \n",
       "Work load Average/day            244.387  264.249  294.217  378.884  \n",
       "Hit target                        93.000   95.000   97.000  100.000  \n",
       "Disciplinary failure               0.000    0.000    0.000    1.000  \n",
       "Education                          1.000    1.000    1.000    4.000  \n",
       "Son                                0.000    1.000    2.000    4.000  \n",
       "Social drinker                     0.000    1.000    1.000    1.000  \n",
       "Social smoker                      0.000    0.000    0.000    1.000  \n",
       "Pet                                0.000    0.000    1.000    8.000  \n",
       "Weight                            69.000   83.000   89.000  108.000  \n",
       "Height                           169.000  170.000  172.000  196.000  \n",
       "Body mass index                   24.000   25.000   31.000   38.000  \n",
       "Absenteeism time in hours          2.000    3.000    8.000  120.000  "
      ]
     },
     "execution_count": 5,
     "metadata": {},
     "output_type": "execute_result"
    }
   ],
   "source": [
    "df.describe().T"
   ]
  },
  {
   "cell_type": "code",
   "execution_count": 6,
   "metadata": {},
   "outputs": [
    {
     "data": {
      "text/plain": [
       "<matplotlib.axes._subplots.AxesSubplot at 0x25586f9d9c8>"
      ]
     },
     "execution_count": 6,
     "metadata": {},
     "output_type": "execute_result"
    },
    {
     "data": {
      "image/png": "[encoded data removed]",
      "text/plain": [
       "<Figure size 720x504 with 1 Axes>"
      ]
     },
     "metadata": {},
     "output_type": "display_data"
    }
   ],
   "source": [
    "plt.figure(figsize = (10, 7))\n",
    "df.groupby('ID').size().sort_values(ascending = False).plot(kind = 'bar')"
   ]
  },
  {
   "cell_type": "code",
   "execution_count": 7,
   "metadata": {},
   "outputs": [
    {
     "data": {
      "text/plain": [
       "3     15.270270\n",
       "28    10.270270\n",
       "34     7.432432\n",
       "22     6.216216\n",
       "20     5.675676\n",
       "11     5.405405\n",
       "15     5.000000\n",
       "36     4.594595\n",
       "24     4.054054\n",
       "14     3.918919\n",
       "33     3.243243\n",
       "10     3.243243\n",
       "1      3.108108\n",
       "17     2.702703\n",
       "5      2.567568\n",
       "18     2.162162\n",
       "13     2.027027\n",
       "25     1.351351\n",
       "6      1.081081\n",
       "9      1.081081\n",
       "23     1.081081\n",
       "27     0.945946\n",
       "30     0.945946\n",
       "12     0.945946\n",
       "7      0.810811\n",
       "2      0.810811\n",
       "29     0.675676\n",
       "26     0.675676\n",
       "32     0.675676\n",
       "31     0.405405\n",
       "19     0.405405\n",
       "21     0.405405\n",
       "16     0.270270\n",
       "8      0.270270\n",
       "35     0.135135\n",
       "4      0.135135\n",
       "Name: ID, dtype: float64"
      ]
     },
     "execution_count": 7,
     "metadata": {},
     "output_type": "execute_result"
    }
   ],
   "source": [
    "df['ID'].value_counts(normalize = True)*100"
   ]
  },
  {
   "cell_type": "markdown",
   "metadata": {},
   "source": [
    "**We can see that 6 employees out of 36 (which is 17% of employees) account for 50% of all absences.**"
   ]
  },
  {
   "cell_type": "markdown",
   "metadata": {},
   "source": [
    "### There is only one non-medical reason for absence - the 26th one. Let's create a column that will show if an employee had medical condition or not and have a look how often the absenteeism reason is not medical"
   ]
  },
  {
   "cell_type": "code",
   "execution_count": 8,
   "metadata": {},
   "outputs": [],
   "source": [
    "df['Absence_med'] = df['Reason for absence'].apply(lambda i: 0 if i == 26 else 1)"
   ]
  },
  {
   "cell_type": "code",
   "execution_count": 9,
   "metadata": {
    "scrolled": true
   },
   "outputs": [
    {
     "data": {
      "text/plain": [
       "<matplotlib.axes._subplots.AxesSubplot at 0x255882ad308>"
      ]
     },
     "execution_count": 9,
     "metadata": {},
     "output_type": "execute_result"
    },
    {
     "data": {
      "image/png": "[encoded data removed]",
      "text/plain": [
       "<Figure size 720x504 with 1 Axes>"
      ]
     },
     "metadata": {},
     "output_type": "display_data"
    }
   ],
   "source": [
    "plt.figure(figsize = (10, 7))\n",
    "sns.countplot(x = 'ID', hue = 'Absence_med', data = df)"
   ]
  },
  {
   "cell_type": "markdown",
   "metadata": {},
   "source": [
    "So, most of the time the absence was explained by some medical condition."
   ]
  },
  {
   "cell_type": "code",
   "execution_count": 10,
   "metadata": {},
   "outputs": [
    {
     "data": {
      "text/plain": [
       "<seaborn.axisgrid.FacetGrid at 0x25588307388>"
      ]
     },
     "execution_count": 10,
     "metadata": {},
     "output_type": "execute_result"
    },
    {
     "data": {
      "image/png": "[encoded data removed]",
      "text/plain": [
       "<Figure size 720x360 with 2 Axes>"
      ]
     },
     "metadata": {},
     "output_type": "display_data"
    }
   ],
   "source": [
    "sns.catplot(x = 'ID', col = 'Absence_med', data = df, kind = 'count')"
   ]
  },
  {
   "cell_type": "code",
   "execution_count": 11,
   "metadata": {},
   "outputs": [
    {
     "data": {
      "text/plain": [
       "<matplotlib.axes._subplots.AxesSubplot at 0x255884693c8>"
      ]
     },
     "execution_count": 11,
     "metadata": {},
     "output_type": "execute_result"
    },
    {
     "data": {
      "image/png": "[encoded data removed]",
      "text/plain": [
       "<Figure size 432x288 with 1 Axes>"
      ]
     },
     "metadata": {},
     "output_type": "display_data"
    }
   ],
   "source": [
    "df[df['Absence_med'] == 0].groupby('ID').size().sort_values(ascending = False).plot(kind = 'bar')"
   ]
  },
  {
   "cell_type": "code",
   "execution_count": 12,
   "metadata": {},
   "outputs": [
    {
     "data": {
      "text/html": [
       "<div>\n",
       "<style scoped>\n",
       "    .dataframe tbody tr th:only-of-type {\n",
       "        vertical-align: middle;\n",
       "    }\n",
       "\n",
       "    .dataframe tbody tr th {\n",
       "        vertical-align: top;\n",
       "    }\n",
       "\n",
       "    .dataframe thead th {\n",
       "        text-align: right;\n",
       "    }\n",
       "</style>\n",
       "<table border=\"1\" class=\"dataframe\">\n",
       "  <thead>\n",
       "    <tr style=\"text-align: right;\">\n",
       "      <th>Son</th>\n",
       "      <th>0</th>\n",
       "      <th>1</th>\n",
       "      <th>2</th>\n",
       "      <th>3</th>\n",
       "      <th>4</th>\n",
       "    </tr>\n",
       "    <tr>\n",
       "      <th>Absence_med</th>\n",
       "      <th></th>\n",
       "      <th></th>\n",
       "      <th></th>\n",
       "      <th></th>\n",
       "      <th></th>\n",
       "    </tr>\n",
       "  </thead>\n",
       "  <tbody>\n",
       "    <tr>\n",
       "      <th>0</th>\n",
       "      <td>8</td>\n",
       "      <td>12</td>\n",
       "      <td>7</td>\n",
       "      <td>2</td>\n",
       "      <td>4</td>\n",
       "    </tr>\n",
       "    <tr>\n",
       "      <th>1</th>\n",
       "      <td>290</td>\n",
       "      <td>217</td>\n",
       "      <td>149</td>\n",
       "      <td>13</td>\n",
       "      <td>38</td>\n",
       "    </tr>\n",
       "  </tbody>\n",
       "</table>\n",
       "</div>"
      ],
      "text/plain": [
       "Son            0    1    2   3   4\n",
       "Absence_med                       \n",
       "0              8   12    7   2   4\n",
       "1            290  217  149  13  38"
      ]
     },
     "execution_count": 12,
     "metadata": {},
     "output_type": "execute_result"
    }
   ],
   "source": [
    "pd.crosstab(df.Absence_med, df.Son)"
   ]
  },
  {
   "cell_type": "code",
   "execution_count": 13,
   "metadata": {},
   "outputs": [
    {
     "data": {
      "text/html": [
       "<div>\n",
       "<style scoped>\n",
       "    .dataframe tbody tr th:only-of-type {\n",
       "        vertical-align: middle;\n",
       "    }\n",
       "\n",
       "    .dataframe tbody tr th {\n",
       "        vertical-align: top;\n",
       "    }\n",
       "\n",
       "    .dataframe thead th {\n",
       "        text-align: right;\n",
       "    }\n",
       "</style>\n",
       "<table border=\"1\" class=\"dataframe\">\n",
       "  <thead>\n",
       "    <tr style=\"text-align: right;\">\n",
       "      <th>Son</th>\n",
       "      <th>0</th>\n",
       "      <th>1</th>\n",
       "      <th>2</th>\n",
       "      <th>3</th>\n",
       "      <th>4</th>\n",
       "    </tr>\n",
       "    <tr>\n",
       "      <th>Absence_med</th>\n",
       "      <th></th>\n",
       "      <th></th>\n",
       "      <th></th>\n",
       "      <th></th>\n",
       "      <th></th>\n",
       "    </tr>\n",
       "  </thead>\n",
       "  <tbody>\n",
       "    <tr>\n",
       "      <th>0</th>\n",
       "      <td>1.081081</td>\n",
       "      <td>1.621622</td>\n",
       "      <td>0.945946</td>\n",
       "      <td>0.270270</td>\n",
       "      <td>0.540541</td>\n",
       "    </tr>\n",
       "    <tr>\n",
       "      <th>1</th>\n",
       "      <td>39.189189</td>\n",
       "      <td>29.324324</td>\n",
       "      <td>20.135135</td>\n",
       "      <td>1.756757</td>\n",
       "      <td>5.135135</td>\n",
       "    </tr>\n",
       "  </tbody>\n",
       "</table>\n",
       "</div>"
      ],
      "text/plain": [
       "Son                  0          1          2         3         4\n",
       "Absence_med                                                     \n",
       "0             1.081081   1.621622   0.945946  0.270270  0.540541\n",
       "1            39.189189  29.324324  20.135135  1.756757  5.135135"
      ]
     },
     "execution_count": 13,
     "metadata": {},
     "output_type": "execute_result"
    }
   ],
   "source": [
    "pd.crosstab(df.Absence_med, df.Son, normalize = True)*100"
   ]
  },
  {
   "cell_type": "markdown",
   "metadata": {},
   "source": [
    "According to the above table we can see that employees with kids had more frequent non-medical reasons for absence. Although employees without kids have the highest number of absence. "
   ]
  },
  {
   "cell_type": "code",
   "execution_count": 14,
   "metadata": {},
   "outputs": [
    {
     "data": {
      "text/html": [
       "<div>\n",
       "<style scoped>\n",
       "    .dataframe tbody tr th:only-of-type {\n",
       "        vertical-align: middle;\n",
       "    }\n",
       "\n",
       "    .dataframe tbody tr th {\n",
       "        vertical-align: top;\n",
       "    }\n",
       "\n",
       "    .dataframe thead th {\n",
       "        text-align: right;\n",
       "    }\n",
       "</style>\n",
       "<table border=\"1\" class=\"dataframe\">\n",
       "  <thead>\n",
       "    <tr style=\"text-align: right;\">\n",
       "      <th>Pet</th>\n",
       "      <th>0</th>\n",
       "      <th>1</th>\n",
       "      <th>2</th>\n",
       "      <th>4</th>\n",
       "      <th>5</th>\n",
       "      <th>8</th>\n",
       "    </tr>\n",
       "    <tr>\n",
       "      <th>Absence_med</th>\n",
       "      <th></th>\n",
       "      <th></th>\n",
       "      <th></th>\n",
       "      <th></th>\n",
       "      <th></th>\n",
       "      <th></th>\n",
       "    </tr>\n",
       "  </thead>\n",
       "  <tbody>\n",
       "    <tr>\n",
       "      <th>0</th>\n",
       "      <td>3.243243</td>\n",
       "      <td>1.216216</td>\n",
       "      <td>0.000000</td>\n",
       "      <td>0.000000</td>\n",
       "      <td>0.000000</td>\n",
       "      <td>0.000000</td>\n",
       "    </tr>\n",
       "    <tr>\n",
       "      <th>1</th>\n",
       "      <td>58.918919</td>\n",
       "      <td>17.432432</td>\n",
       "      <td>12.972973</td>\n",
       "      <td>4.324324</td>\n",
       "      <td>0.810811</td>\n",
       "      <td>1.081081</td>\n",
       "    </tr>\n",
       "  </tbody>\n",
       "</table>\n",
       "</div>"
      ],
      "text/plain": [
       "Pet                  0          1          2         4         5         8\n",
       "Absence_med                                                               \n",
       "0             3.243243   1.216216   0.000000  0.000000  0.000000  0.000000\n",
       "1            58.918919  17.432432  12.972973  4.324324  0.810811  1.081081"
      ]
     },
     "execution_count": 14,
     "metadata": {},
     "output_type": "execute_result"
    }
   ],
   "source": [
    "pd.crosstab(df.Absence_med, df.Pet, normalize = True)*100"
   ]
  },
  {
   "cell_type": "markdown",
   "metadata": {},
   "source": [
    "Seems like employees with pets are more responsible and healthy :)"
   ]
  },
  {
   "cell_type": "markdown",
   "metadata": {},
   "source": [
    "### Medical studies show that people with BMI above or below the normal one are less healthy. The normal BMI varies between 18,5 and 25 point. Let's have a look at BMI of employees"
   ]
  },
  {
   "cell_type": "code",
   "execution_count": 15,
   "metadata": {},
   "outputs": [
    {
     "data": {
      "text/plain": [
       "<matplotlib.axes._subplots.AxesSubplot at 0x255886a9748>"
      ]
     },
     "execution_count": 15,
     "metadata": {},
     "output_type": "execute_result"
    },
    {
     "data": {
      "image/png": "[encoded data removed]",
      "text/plain": [
       "<Figure size 432x288 with 1 Axes>"
      ]
     },
     "metadata": {},
     "output_type": "display_data"
    }
   ],
   "source": [
    "df['Body mass index'].hist()"
   ]
  },
  {
   "cell_type": "code",
   "execution_count": 16,
   "metadata": {},
   "outputs": [
    {
     "data": {
      "text/plain": [
       "<matplotlib.axes._subplots.AxesSubplot at 0x25588760a48>"
      ]
     },
     "execution_count": 16,
     "metadata": {},
     "output_type": "execute_result"
    },
    {
     "data": {
      "image/png": "[encoded data removed]",
      "text/plain": [
       "<Figure size 432x288 with 1 Axes>"
      ]
     },
     "metadata": {},
     "output_type": "display_data"
    }
   ],
   "source": [
    "sns.countplot(df['Body mass index'], hue = df.Absence_med)"
   ]
  },
  {
   "cell_type": "markdown",
   "metadata": {},
   "source": [
    "People with BMI of 31 are the leaders of absenteeism for medical reasons. Let's have a look at those reasons"
   ]
  },
  {
   "cell_type": "code",
   "execution_count": 17,
   "metadata": {},
   "outputs": [
    {
     "data": {
      "text/html": [
       "<div>\n",
       "<style scoped>\n",
       "    .dataframe tbody tr th:only-of-type {\n",
       "        vertical-align: middle;\n",
       "    }\n",
       "\n",
       "    .dataframe tbody tr th {\n",
       "        vertical-align: top;\n",
       "    }\n",
       "\n",
       "    .dataframe thead th {\n",
       "        text-align: right;\n",
       "    }\n",
       "</style>\n",
       "<table border=\"1\" class=\"dataframe\">\n",
       "  <thead>\n",
       "    <tr style=\"text-align: right;\">\n",
       "      <th>Body mass index</th>\n",
       "      <th>31</th>\n",
       "    </tr>\n",
       "    <tr>\n",
       "      <th>Reason for absence</th>\n",
       "      <th></th>\n",
       "    </tr>\n",
       "  </thead>\n",
       "  <tbody>\n",
       "    <tr>\n",
       "      <th>0</th>\n",
       "      <td>7</td>\n",
       "    </tr>\n",
       "    <tr>\n",
       "      <th>1</th>\n",
       "      <td>1</td>\n",
       "    </tr>\n",
       "    <tr>\n",
       "      <th>5</th>\n",
       "      <td>2</td>\n",
       "    </tr>\n",
       "    <tr>\n",
       "      <th>6</th>\n",
       "      <td>1</td>\n",
       "    </tr>\n",
       "    <tr>\n",
       "      <th>10</th>\n",
       "      <td>2</td>\n",
       "    </tr>\n",
       "    <tr>\n",
       "      <th>11</th>\n",
       "      <td>7</td>\n",
       "    </tr>\n",
       "    <tr>\n",
       "      <th>12</th>\n",
       "      <td>1</td>\n",
       "    </tr>\n",
       "    <tr>\n",
       "      <th>13</th>\n",
       "      <td>16</td>\n",
       "    </tr>\n",
       "    <tr>\n",
       "      <th>14</th>\n",
       "      <td>2</td>\n",
       "    </tr>\n",
       "    <tr>\n",
       "      <th>18</th>\n",
       "      <td>2</td>\n",
       "    </tr>\n",
       "    <tr>\n",
       "      <th>19</th>\n",
       "      <td>2</td>\n",
       "    </tr>\n",
       "    <tr>\n",
       "      <th>21</th>\n",
       "      <td>2</td>\n",
       "    </tr>\n",
       "    <tr>\n",
       "      <th>23</th>\n",
       "      <td>30</td>\n",
       "    </tr>\n",
       "    <tr>\n",
       "      <th>25</th>\n",
       "      <td>2</td>\n",
       "    </tr>\n",
       "    <tr>\n",
       "      <th>26</th>\n",
       "      <td>2</td>\n",
       "    </tr>\n",
       "    <tr>\n",
       "      <th>27</th>\n",
       "      <td>38</td>\n",
       "    </tr>\n",
       "    <tr>\n",
       "      <th>28</th>\n",
       "      <td>30</td>\n",
       "    </tr>\n",
       "  </tbody>\n",
       "</table>\n",
       "</div>"
      ],
      "text/plain": [
       "Body mass index     31\n",
       "Reason for absence    \n",
       "0                    7\n",
       "1                    1\n",
       "5                    2\n",
       "6                    1\n",
       "10                   2\n",
       "11                   7\n",
       "12                   1\n",
       "13                  16\n",
       "14                   2\n",
       "18                   2\n",
       "19                   2\n",
       "21                   2\n",
       "23                  30\n",
       "25                   2\n",
       "26                   2\n",
       "27                  38\n",
       "28                  30"
      ]
     },
     "execution_count": 17,
     "metadata": {},
     "output_type": "execute_result"
    }
   ],
   "source": [
    "pd.crosstab(df[df['Body mass index'] == 31]['Body mass index'], df[df['Body mass index'] == 31]['Reason for absence']).T"
   ]
  },
  {
   "cell_type": "markdown",
   "metadata": {},
   "source": [
    "The most frequent reason are 27, 23, and 28 which are physiotherapy, medical consultation, and dental consultation respectively. However we can also see that those reasons are te most frequent among all employees"
   ]
  },
  {
   "cell_type": "code",
   "execution_count": 18,
   "metadata": {},
   "outputs": [
    {
     "data": {
      "text/plain": [
       "<matplotlib.axes._subplots.AxesSubplot at 0x255887dbc88>"
      ]
     },
     "execution_count": 18,
     "metadata": {},
     "output_type": "execute_result"
    },
    {
     "data": {
      "image/png": "[encoded data removed]",
      "text/plain": [
       "<Figure size 432x288 with 1 Axes>"
      ]
     },
     "metadata": {},
     "output_type": "display_data"
    }
   ],
   "source": [
    "sns.countplot(df['Reason for absence'])"
   ]
  }
 ],
 "metadata": {
  "kernelspec": {
   "display_name": "Python 3",
   "language": "python",
   "name": "python3"
  },
  "language_info": {
   "codemirror_mode": {
    "name": "ipython",
    "version": 3
   },
   "file_extension": ".py",
   "mimetype": "text/x-python",
   "name": "python",
   "nbconvert_exporter": "python",
   "pygments_lexer": "ipython3",
   "version": "3.7.6"
  }
 },
 "nbformat": 4,
 "nbformat_minor": 4
}
